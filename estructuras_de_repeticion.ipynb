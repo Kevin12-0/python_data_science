{
 "cells": [
  {
   "cell_type": "markdown",
   "id": "6431c236",
   "metadata": {},
   "source": [
    "# Estructuras de repeticion\n",
    "\n",
    "Cuando tenemos que ejecutar el mismo bloque durante varias ocaciones, pero hacerlo de manera manual es muy tediono"
   ]
  },
  {
   "cell_type": "code",
   "execution_count": null,
   "id": "88315fc6",
   "metadata": {},
   "outputs": [
    {
     "name": "stdout",
     "output_type": "stream",
     "text": [
      "el promedio del estudiante es: {1.5}\n",
      "el promedio del estudiante es: {1.5}\n",
      "el promedio del estudiante es: {3.5}\n",
      "el promedio del estudiante es: {5.5}\n"
     ]
    }
   ],
   "source": [
    "nota_1 = float(input(\"Digita la primer nota\"))\n",
    "nota_2 = float(input(\"Digita la segunda nota nota\"))\n",
    "print(\"el promedio del estudiante es:\", {(nota_1 + nota_2) / 2})\n",
    "nota_1 = float(input(\"Digita la primer nota\"))\n",
    "nota_2 = float(input(\"Digita la segunda nota nota\"))\n",
    "print(\"el promedio del estudiante es:\", {(nota_1 + nota_2) / 2})\n",
    "nota_1 = float(input(\"Digita la primer nota\"))\n",
    "nota_2 = float(input(\"Digita la segunda nota nota\"))\n",
    "print(\"el promedio del estudiante es:\", {(nota_1 + nota_2) / 2})\n",
    "nota_1 = float(input(\"Digita la primer nota\"))\n",
    "nota_2 = float(input(\"Digita la segunda nota nota\"))\n",
    "print(\"el promedio del estudiante es:\", {(nota_1 + nota_2) / 2})"
   ]
  },
  {
   "cell_type": "markdown",
   "id": "4bfef230",
   "metadata": {},
   "source": [
    "# while\n",
    "\n",
    "el lazo while es una estructura de control en python que permite ejecutar un bloque de codigo repetidamente mientras que una determinada condicion sea verdadera\n",
    "\n",
    "```python\n",
    "while condicion:\n",
    "    # bloque de codigo\n",
    "```"
   ]
  },
  {
   "cell_type": "markdown",
   "id": "719aa48f",
   "metadata": {},
   "source": [
    "ejemplo de contador de 1 hasta 10"
   ]
  },
  {
   "cell_type": "code",
   "execution_count": null,
   "id": "085b9327",
   "metadata": {},
   "outputs": [
    {
     "name": "stdout",
     "output_type": "stream",
     "text": [
      "0\n",
      "1\n",
      "2\n",
      "3\n",
      "4\n",
      "5\n",
      "6\n",
      "7\n",
      "8\n",
      "9\n",
      "10\n"
     ]
    }
   ],
   "source": [
    "# forma uno\n",
    "\n",
    "contador = 0\n",
    "while contador <= 10:\n",
    "    print(contador)\n",
    "    contador += 1"
   ]
  },
  {
   "cell_type": "code",
   "execution_count": 3,
   "id": "ee2be698",
   "metadata": {},
   "outputs": [
    {
     "name": "stdout",
     "output_type": "stream",
     "text": [
      "0\n",
      "1\n",
      "2\n",
      "3\n",
      "4\n",
      "5\n",
      "6\n",
      "7\n",
      "8\n",
      "9\n",
      "10\n"
     ]
    }
   ],
   "source": [
    "#forma 2\n",
    "contador = 0\n",
    "while contador <= 10:\n",
    "    print(contador)\n",
    "    contador = contador + 1"
   ]
  },
  {
   "cell_type": "markdown",
   "id": "628502b5",
   "metadata": {},
   "source": [
    "ahora vamos a colectar las notas y los promedios de cada alumno dentro del while"
   ]
  },
  {
   "cell_type": "code",
   "execution_count": 6,
   "id": "d1c8c98a",
   "metadata": {},
   "outputs": [
    {
     "name": "stdout",
     "output_type": "stream",
     "text": [
      "el promedio es: 1.5\n",
      "el promedio es: 4.5\n",
      "el promedio es: 6.5\n"
     ]
    }
   ],
   "source": [
    "contador = 1\n",
    "while contador <= 3:\n",
    "    nota_1 = float(input(\"Inserta la nota 1:\"))\n",
    "    nota_2 = float(input(\"Inserta la nota 2:\"))\n",
    "    contador+=1\n",
    "    promedio = (nota_1+nota_2)/2\n",
    "    print(\"el promedio es:\",promedio)"
   ]
  },
  {
   "cell_type": "markdown",
   "id": "da1801cb",
   "metadata": {},
   "source": [
    "# for\n",
    "\n",
    "estructrua de control de flujo en python que permite iterar sobre un conjunto de elemento, su estructura es\n",
    "\n",
    "```python\n",
    "for elemento in conjunto:\n",
    "    # codigo a ejecutar\n",
    "```"
   ]
  },
  {
   "cell_type": "markdown",
   "id": "e3a3541e",
   "metadata": {},
   "source": [
    "recreacion del mismo ejemplo del while"
   ]
  },
  {
   "cell_type": "code",
   "execution_count": 7,
   "id": "d2ea3b61",
   "metadata": {},
   "outputs": [
    {
     "name": "stdout",
     "output_type": "stream",
     "text": [
      "0\n",
      "1\n",
      "2\n",
      "3\n",
      "4\n",
      "5\n",
      "6\n",
      "7\n",
      "8\n",
      "9\n",
      "10\n"
     ]
    }
   ],
   "source": [
    "for n in range(0,11): # desde 0 hasta 11\n",
    "    print(n)"
   ]
  },
  {
   "cell_type": "code",
   "execution_count": 8,
   "id": "a2032455",
   "metadata": {},
   "outputs": [
    {
     "name": "stdout",
     "output_type": "stream",
     "text": [
      "el promedio es: 6.5\n",
      "el promedio es: 6.5\n",
      "el promedio es: 6.5\n",
      "el promedio es: 6.5\n"
     ]
    }
   ],
   "source": [
    "for n in range(0,4): # desde 0 hasta 11\n",
    "    nota_1 = float(input(\"Inserta la nota 1:\"))\n",
    "    nota_2 = float(input(\"Inserta la nota 2:\"))\n",
    "    print(\"el promedio es:\",promedio)"
   ]
  },
  {
   "cell_type": "code",
   "execution_count": null,
   "id": "5ec0e2b4",
   "metadata": {},
   "outputs": [],
   "source": []
  }
 ],
 "metadata": {
  "kernelspec": {
   "display_name": "Python 3",
   "language": "python",
   "name": "python3"
  },
  "language_info": {
   "codemirror_mode": {
    "name": "ipython",
    "version": 3
   },
   "file_extension": ".py",
   "mimetype": "text/x-python",
   "name": "python",
   "nbconvert_exporter": "python",
   "pygments_lexer": "ipython3",
   "version": "3.13.3"
  }
 },
 "nbformat": 4,
 "nbformat_minor": 5
}

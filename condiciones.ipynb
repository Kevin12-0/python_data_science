{
 "cells": [
  {
   "cell_type": "markdown",
   "id": "089d7e6a",
   "metadata": {},
   "source": [
    "# Estructuras condicionales"
   ]
  },
  {
   "cell_type": "code",
   "execution_count": 1,
   "id": "5a37fa34",
   "metadata": {},
   "outputs": [
    {
     "data": {
      "text/plain": [
       "'\\nsi nota es mayor o igual a 7 entonces el estudiante apruba\\nsi no el estudiante reprueba\\n'"
      ]
     },
     "execution_count": 1,
     "metadata": {},
     "output_type": "execute_result"
    }
   ],
   "source": [
    "# Nota de aprovacion entre 7 y 10 == nota de aprovacion mayor o igual a 7\n",
    "# Nota de reprobacion menor a 7 == nota < 7\n",
    "\n",
    "\"\"\"\n",
    "si nota es mayor o igual a 7 entonces el estudiante apruba\n",
    "si no el estudiante reprueba\n",
    "\"\"\""
   ]
  },
  {
   "cell_type": "markdown",
   "id": "9b9a2645",
   "metadata": {},
   "source": [
    "# if y else\n",
    "\n",
    "Los comando if y else son dos estructuras condicionales, el comando if se ehecutara cuando el bloque de comando en caso de que la condicion citada es verdadera, el se se ejecuta cuando el bloque es falso."
   ]
  },
  {
   "cell_type": "code",
   "execution_count": 1,
   "id": "8d2ddf37",
   "metadata": {},
   "outputs": [
    {
     "name": "stdout",
     "output_type": "stream",
     "text": [
      "la condicion es verdadera\n"
     ]
    }
   ],
   "source": [
    "if 2<7:\n",
    "    print(\"la condicion es verdadera\")"
   ]
  },
  {
   "cell_type": "code",
   "execution_count": 3,
   "id": "61c595d1",
   "metadata": {},
   "outputs": [
    {
     "name": "stdout",
     "output_type": "stream",
     "text": [
      "fin de la consulta\n"
     ]
    }
   ],
   "source": [
    "if 2>7: # la condicion es falsa\n",
    "    print(\"la condicion es verdadera\")\n",
    "print(\"fin de la consulta\")"
   ]
  },
  {
   "cell_type": "markdown",
   "id": "fdc3798a",
   "metadata": {},
   "source": [
    "# else\n",
    "\n",
    "se usa para complementar la estructura copndicional"
   ]
  },
  {
   "cell_type": "code",
   "execution_count": null,
   "id": "3fc57a32",
   "metadata": {},
   "outputs": [],
   "source": [
    "if 2>7: # la condicion es falsa\n",
    "    print(\"la condicion es verdadera\")\n",
    "else:\n",
    "    print(\"condicion falsa\")\n",
    "print(\"fin de la consulta\")"
   ]
  }
 ],
 "metadata": {
  "kernelspec": {
   "display_name": "Python 3",
   "language": "python",
   "name": "python3"
  },
  "language_info": {
   "codemirror_mode": {
    "name": "ipython",
    "version": 3
   },
   "file_extension": ".py",
   "mimetype": "text/x-python",
   "name": "python",
   "nbconvert_exporter": "python",
   "pygments_lexer": "ipython3",
   "version": "3.13.3"
  }
 },
 "nbformat": 4,
 "nbformat_minor": 5
}

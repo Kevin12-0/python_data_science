{
 "cells": [
  {
   "cell_type": "markdown",
   "id": "089d7e6a",
   "metadata": {},
   "source": [
    "# Estructuras condicionales"
   ]
  },
  {
   "cell_type": "code",
   "execution_count": 1,
   "id": "5a37fa34",
   "metadata": {},
   "outputs": [
    {
     "data": {
      "text/plain": [
       "'\\nsi nota es mayor o igual a 7 entonces el estudiante apruba\\nsi no el estudiante reprueba\\n'"
      ]
     },
     "execution_count": 1,
     "metadata": {},
     "output_type": "execute_result"
    }
   ],
   "source": [
    "# Nota de aprovacion entre 7 y 10 == nota de aprovacion mayor o igual a 7\n",
    "# Nota de reprobacion menor a 7 == nota < 7\n",
    "\n",
    "\"\"\"\n",
    "si nota es mayor o igual a 7 entonces el estudiante apruba\n",
    "si no el estudiante reprueba\n",
    "\"\"\""
   ]
  },
  {
   "cell_type": "code",
   "execution_count": null,
   "id": "8d2ddf37",
   "metadata": {},
   "outputs": [],
   "source": []
  }
 ],
 "metadata": {
  "kernelspec": {
   "display_name": "Python 3",
   "language": "python",
   "name": "python3"
  },
  "language_info": {
   "codemirror_mode": {
    "name": "ipython",
    "version": 3
   },
   "file_extension": ".py",
   "mimetype": "text/x-python",
   "name": "python",
   "nbconvert_exporter": "python",
   "pygments_lexer": "ipython3",
   "version": "3.13.1"
  }
 },
 "nbformat": 4,
 "nbformat_minor": 5
}

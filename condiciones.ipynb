{
 "cells": [
  {
   "cell_type": "markdown",
   "id": "089d7e6a",
   "metadata": {},
   "source": [
    "# Estructuras condicionales"
   ]
  },
  {
   "cell_type": "code",
   "execution_count": 1,
   "id": "5a37fa34",
   "metadata": {},
   "outputs": [
    {
     "data": {
      "text/plain": [
       "'\\nsi nota es mayor o igual a 7 entonces el estudiante apruba\\nsi no el estudiante reprueba\\n'"
      ]
     },
     "execution_count": 1,
     "metadata": {},
     "output_type": "execute_result"
    }
   ],
   "source": [
    "# Nota de aprovacion entre 7 y 10 == nota de aprovacion mayor o igual a 7\n",
    "# Nota de reprobacion menor a 7 == nota < 7\n",
    "\n",
    "\"\"\"\n",
    "si nota es mayor o igual a 7 entonces el estudiante apruba\n",
    "si no el estudiante reprueba\n",
    "\"\"\""
   ]
  },
  {
   "cell_type": "markdown",
   "id": "9b9a2645",
   "metadata": {},
   "source": [
    "# if y else\n",
    "\n",
    "Los comando if y else son dos estructuras condicionales, el comando if se ehecutara cuando el bloque de comando en caso de que la condicion citada es verdadera, el se se ejecuta cuando el bloque es falso."
   ]
  },
  {
   "cell_type": "code",
   "execution_count": 1,
   "id": "8d2ddf37",
   "metadata": {},
   "outputs": [
    {
     "name": "stdout",
     "output_type": "stream",
     "text": [
      "la condicion es verdadera\n"
     ]
    }
   ],
   "source": [
    "if 2<7:\n",
    "    print(\"la condicion es verdadera\")"
   ]
  },
  {
   "cell_type": "code",
   "execution_count": 3,
   "id": "61c595d1",
   "metadata": {},
   "outputs": [
    {
     "name": "stdout",
     "output_type": "stream",
     "text": [
      "fin de la consulta\n"
     ]
    }
   ],
   "source": [
    "if 2>7: # la condicion es falsa\n",
    "    print(\"la condicion es verdadera\")\n",
    "print(\"fin de la consulta\")"
   ]
  },
  {
   "cell_type": "markdown",
   "id": "fdc3798a",
   "metadata": {},
   "source": [
    "# else\n",
    "\n",
    "se usa para complementar la estructura copndicional"
   ]
  },
  {
   "cell_type": "code",
   "execution_count": null,
   "id": "3fc57a32",
   "metadata": {},
   "outputs": [],
   "source": [
    "if 2>7: # la condicion es falsa\n",
    "    print(\"la condicion es verdadera\")\n",
    "else:\n",
    "    print(\"condicion falsa\")\n",
    "print(\"fin de la consulta\")"
   ]
  },
  {
   "cell_type": "markdown",
   "id": "f6d9af7b",
   "metadata": {},
   "source": [
    "### Situacion\n",
    "\n",
    "Si un alumno tiene un promedio menor a 7 es reprobado, si un alumno tiene un promedio maypr a 7 es aprobado"
   ]
  },
  {
   "cell_type": "code",
   "execution_count": 4,
   "id": "ccdf1b73",
   "metadata": {},
   "outputs": [
    {
     "name": "stdout",
     "output_type": "stream",
     "text": [
      "aprobado\n"
     ]
    }
   ],
   "source": [
    "promedio = float(input('digita el promedio: '))\n",
    "if promedio >=7:\n",
    "    print('aprobado')\n",
    "else:\n",
    "    print('reprobado')"
   ]
  },
  {
   "cell_type": "markdown",
   "id": "85719285",
   "metadata": {},
   "source": [
    "ahora una institucion dice que si tu calificaopn tiene un promdio entre 5.0 y 7.0 pruede nivelar"
   ]
  },
  {
   "cell_type": "code",
   "execution_count": 7,
   "id": "e8c9268b",
   "metadata": {},
   "outputs": [
    {
     "name": "stdout",
     "output_type": "stream",
     "text": [
      "reprobado\n"
     ]
    }
   ],
   "source": [
    "promedio = float(input('digita el promedio: '))\n",
    "if promedio >=7:\n",
    "    print('aprobado')\n",
    "if 7 > promedio >= 5:\n",
    "    print('puedes ir a recuperacion')\n",
    "if promedio < 5:\n",
    "    print('reprobado')"
   ]
  },
  {
   "cell_type": "markdown",
   "id": "7b803c94",
   "metadata": {},
   "source": [
    "# elif\n",
    "\n",
    "palabra cable que significa si no"
   ]
  },
  {
   "cell_type": "code",
   "execution_count": 10,
   "id": "ea96dd03",
   "metadata": {},
   "outputs": [
    {
     "name": "stdout",
     "output_type": "stream",
     "text": [
      "puedes ir a recuperacion\n"
     ]
    }
   ],
   "source": [
    "promedio = float(input('digita el promedio: '))\n",
    "if promedio >=7:\n",
    "    print('aprobado')\n",
    "elif 7 > promedio >= 5:\n",
    "    print('puedes ir a recuperacion')\n",
    "else:\n",
    "    print('reprobado')"
   ]
  },
  {
   "cell_type": "markdown",
   "id": "c3c0f3d7",
   "metadata": {},
   "source": [
    "# Operadores\n",
    "\n",
    "Durante la construccion de comando es nesesario una elaboracion de mayar exprecion condicional que algunos operadores logicos se cuenuentren integrados"
   ]
  },
  {
   "cell_type": "markdown",
   "id": "30717dce",
   "metadata": {},
   "source": [
    "* and usado para verificar cuando dos condiones son verdaderas\n",
    "* or cuando si almenos una de todas en verdadesra\n",
    "* not cuando no es igual una que otra "
   ]
  },
  {
   "cell_type": "code",
   "execution_count": 11,
   "id": "b91a4598",
   "metadata": {},
   "outputs": [],
   "source": [
    "v = True\n",
    "f = False"
   ]
  },
  {
   "cell_type": "code",
   "execution_count": 12,
   "id": "44239a43",
   "metadata": {},
   "outputs": [
    {
     "name": "stdout",
     "output_type": "stream",
     "text": [
      "la condicion es verdadera\n"
     ]
    }
   ],
   "source": [
    "if v and v:\n",
    "    print('la condicion es verdadera')\n",
    "else:\n",
    "    print('la condicion es falsa')"
   ]
  },
  {
   "cell_type": "code",
   "execution_count": 13,
   "id": "819554d1",
   "metadata": {},
   "outputs": [
    {
     "name": "stdout",
     "output_type": "stream",
     "text": [
      "la condicion es falsa\n"
     ]
    }
   ],
   "source": [
    "if v and f:\n",
    "    print('la condicion es verdadera')\n",
    "else:\n",
    "    print('la condicion es falsa')"
   ]
  },
  {
   "cell_type": "code",
   "execution_count": 14,
   "id": "01833557",
   "metadata": {},
   "outputs": [
    {
     "name": "stdout",
     "output_type": "stream",
     "text": [
      "la condicion es falsa\n"
     ]
    }
   ],
   "source": [
    "if f and f:\n",
    "    print('la condicion es verdadera')\n",
    "else:\n",
    "    print('la condicion es falsa')"
   ]
  },
  {
   "cell_type": "code",
   "execution_count": 15,
   "id": "b1830fb1",
   "metadata": {},
   "outputs": [
    {
     "name": "stdout",
     "output_type": "stream",
     "text": [
      "la condicion es verdadera\n"
     ]
    }
   ],
   "source": [
    "if v or f:\n",
    "    print('la condicion es verdadera')\n",
    "else:\n",
    "    print('la condicion es falsa')"
   ]
  },
  {
   "cell_type": "code",
   "execution_count": 17,
   "id": "8e76cb16",
   "metadata": {},
   "outputs": [
    {
     "name": "stdout",
     "output_type": "stream",
     "text": [
      "la condicion es falsa\n"
     ]
    }
   ],
   "source": [
    "if not v:\n",
    "    print('la condicion es verdadera')\n",
    "else:\n",
    "    print('la condicion es falsa')"
   ]
  },
  {
   "cell_type": "code",
   "execution_count": 18,
   "id": "3e9e4a6c",
   "metadata": {},
   "outputs": [
    {
     "name": "stdout",
     "output_type": "stream",
     "text": [
      "la condicion es verdadera\n"
     ]
    }
   ],
   "source": [
    "if not f:\n",
    "    print('la condicion es verdadera')\n",
    "else:\n",
    "    print('la condicion es falsa')"
   ]
  },
  {
   "cell_type": "markdown",
   "id": "5dfa825d",
   "metadata": {},
   "source": [
    "## IN\n",
    "\n",
    "para verificar si un elemto esta PRESENTE EN UNA LISTA O TUPLA U OTRA COLECCION DE CONJUNTO\n",
    "\n",
    "Se puede verficar en variables de texto"
   ]
  },
  {
   "cell_type": "code",
   "execution_count": 1,
   "id": "47ed426a",
   "metadata": {},
   "outputs": [],
   "source": [
    "lista = 'Juan Perez, Maeria Gonzales, Kevin Lopez, Xochitl Mendoza, Ana Lopez, Carlos Martinez'"
   ]
  },
  {
   "cell_type": "code",
   "execution_count": null,
   "id": "e4a02a5d",
   "metadata": {},
   "outputs": [],
   "source": [
    "nombre_1 = 'Juan Perez'\n",
    "nombre_2 = 'Xohitl Mendoza'"
   ]
  },
  {
   "cell_type": "code",
   "execution_count": null,
   "id": "50df99ab",
   "metadata": {},
   "outputs": [
    {
     "name": "stdout",
     "output_type": "stream",
     "text": [
      "erro\n"
     ]
    }
   ],
   "source": [
    "if nombre_2 in lista:\n",
    "    print(\"el estudiante aprobo\")\n",
    "else:\n",
    "    print('error')"
   ]
  },
  {
   "cell_type": "code",
   "execution_count": null,
   "id": "533b2a4a",
   "metadata": {},
   "outputs": [],
   "source": []
  }
 ],
 "metadata": {
  "kernelspec": {
   "display_name": "Python 3",
   "language": "python",
   "name": "python3"
  },
  "language_info": {
   "codemirror_mode": {
    "name": "ipython",
    "version": 3
   },
   "file_extension": ".py",
   "mimetype": "text/x-python",
   "name": "python",
   "nbconvert_exporter": "python",
   "pygments_lexer": "ipython3",
   "version": "3.13.3"
  }
 },
 "nbformat": 4,
 "nbformat_minor": 5
}

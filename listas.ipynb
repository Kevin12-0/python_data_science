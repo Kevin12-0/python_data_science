{
 "cells": [
  {
   "cell_type": "markdown",
   "id": "7924885e",
   "metadata": {},
   "source": [
    "# Listas\n",
    "\n",
    "Pueden alamacenar diferentes valores de caracter diferente\n"
   ]
  },
  {
   "cell_type": "code",
   "execution_count": 1,
   "id": "395af543",
   "metadata": {},
   "outputs": [
    {
     "data": {
      "text/plain": [
       "['penelope camacho', 9, 5, 0, 7, 9.2, True]"
      ]
     },
     "execution_count": 1,
     "metadata": {},
     "output_type": "execute_result"
    }
   ],
   "source": [
    "lista = [\"penelope camacho\", 9, 5, 0, 7, 9.2, True]\n",
    "lista"
   ]
  },
  {
   "cell_type": "markdown",
   "id": "7c003b73",
   "metadata": {},
   "source": [
    "cada objeto tiene un indice en la lista, empezando desde el 0\n",
    "\n",
    "de igual hay indices negativos, que es de atras hacia adelante"
   ]
  },
  {
   "cell_type": "code",
   "execution_count": 2,
   "id": "670b82de",
   "metadata": {},
   "outputs": [
    {
     "data": {
      "text/plain": [
       "'penelope camacho'"
      ]
     },
     "execution_count": 2,
     "metadata": {},
     "output_type": "execute_result"
    }
   ],
   "source": [
    "lista[0]"
   ]
  },
  {
   "cell_type": "code",
   "execution_count": 3,
   "id": "aaa0ab69",
   "metadata": {},
   "outputs": [
    {
     "data": {
      "text/plain": [
       "str"
      ]
     },
     "execution_count": 3,
     "metadata": {},
     "output_type": "execute_result"
    }
   ],
   "source": [
    "type(lista[0])"
   ]
  },
  {
   "cell_type": "code",
   "execution_count": 4,
   "id": "42242858",
   "metadata": {},
   "outputs": [
    {
     "data": {
      "text/plain": [
       "float"
      ]
     },
     "execution_count": 4,
     "metadata": {},
     "output_type": "execute_result"
    }
   ],
   "source": [
    "type(lista[-2])"
   ]
  },
  {
   "cell_type": "markdown",
   "id": "a1388eec",
   "metadata": {},
   "source": [
    "una forma de tarbajar con una lista es utilizando un lazo for para leer un elemento"
   ]
  },
  {
   "cell_type": "code",
   "execution_count": 5,
   "id": "0a8b244c",
   "metadata": {},
   "outputs": [
    {
     "name": "stdout",
     "output_type": "stream",
     "text": [
      "penelope camacho\n",
      "9\n",
      "5\n",
      "0\n",
      "7\n",
      "9.2\n",
      "True\n"
     ]
    }
   ],
   "source": [
    "for elento in lista:\n",
    "    print(elento)"
   ]
  },
  {
   "cell_type": "markdown",
   "id": "a9f49f9b",
   "metadata": {},
   "source": [
    "La nota de Penelope necesita ser ajustada pues gano 1 punto en su ultima nota, en clase, Entonces es necesario realiazr un cambio en el indice 2 de 9.0 a 10.0"
   ]
  },
  {
   "cell_type": "code",
   "execution_count": 6,
   "id": "3d1ca292",
   "metadata": {},
   "outputs": [
    {
     "data": {
      "text/plain": [
       "['penelope camacho', 9, 10.0, 0, 7, 9.2, True]"
      ]
     },
     "execution_count": 6,
     "metadata": {},
     "output_type": "execute_result"
    }
   ],
   "source": [
    "lista[2] = 10.0\n",
    "lista"
   ]
  },
  {
   "cell_type": "code",
   "execution_count": 7,
   "id": "020d5010",
   "metadata": {},
   "outputs": [
    {
     "data": {
      "text/plain": [
       "6.5"
      ]
     },
     "execution_count": 7,
     "metadata": {},
     "output_type": "execute_result"
    }
   ],
   "source": [
    "promedio = (lista[1]+lista[2]+lista[3]+lista[4])/4\n",
    "promedio"
   ]
  },
  {
   "cell_type": "markdown",
   "id": "cfc7f029",
   "metadata": {},
   "source": [
    "# Manipulacion de Listas\n",
    "\n",
    "\n",
    "Las listas son muy utiles en python por que nos permiten alamacenar y acceder a una coleecion de items de manera organizada y rapida. Estas tambien ofrecen muchos metodos utiles para manipular los items almacenados, como adicionar, remover, clasificar y buscar elementos"
   ]
  },
  {
   "cell_type": "markdown",
   "id": "c6cb75eb",
   "metadata": {},
   "source": [
    "## Cantidad de elementos\n",
    "\n",
    "Usamos la funcion ```len()``` para descubir la cantidad de elementos de un conjunto"
   ]
  },
  {
   "cell_type": "code",
   "execution_count": 8,
   "id": "81b7cff8",
   "metadata": {},
   "outputs": [
    {
     "data": {
      "text/plain": [
       "8"
      ]
     },
     "execution_count": 8,
     "metadata": {},
     "output_type": "execute_result"
    }
   ],
   "source": [
    "lista = [1,2,3,4,5,6,7,8]\n",
    "len(lista)"
   ]
  },
  {
   "cell_type": "markdown",
   "id": "7db964fc",
   "metadata": {},
   "source": [
    "## Particion\n",
    "\n",
    "La particion de listas por indexacion en Python es una técnica muy util para seleccion un subconjunto de elementos de una lista. Este se realiza usando sintaxis ```lista[inicio:fin]``` , donde inicio es el indice del primer elemento que sera incluido en la participacion din es el indice del primer elemeto que sera excluido ed la particion"
   ]
  },
  {
   "cell_type": "code",
   "execution_count": 9,
   "id": "3a098499",
   "metadata": {},
   "outputs": [
    {
     "data": {
      "text/plain": [
       "[3, 4, 5, 6, 7]"
      ]
     },
     "execution_count": 9,
     "metadata": {},
     "output_type": "execute_result"
    }
   ],
   "source": [
    "lista[2:7]"
   ]
  },
  {
   "cell_type": "code",
   "execution_count": 10,
   "id": "b345ae9b",
   "metadata": {},
   "outputs": [
    {
     "data": {
      "text/plain": [
       "[1, 2, 3]"
      ]
     },
     "execution_count": 10,
     "metadata": {},
     "output_type": "execute_result"
    }
   ],
   "source": [
    "lista[:3]"
   ]
  },
  {
   "cell_type": "code",
   "execution_count": 11,
   "id": "d610c46d",
   "metadata": {},
   "outputs": [
    {
     "data": {
      "text/plain": [
       "[4, 5, 6, 7, 8]"
      ]
     },
     "execution_count": 11,
     "metadata": {},
     "output_type": "execute_result"
    }
   ],
   "source": [
    "lista[3:]"
   ]
  },
  {
   "cell_type": "code",
   "execution_count": 12,
   "id": "0822da38",
   "metadata": {},
   "outputs": [
    {
     "data": {
      "text/plain": [
       "[1, 2, 3, 4, 5, 6, 7, 8]"
      ]
     },
     "execution_count": 12,
     "metadata": {},
     "output_type": "execute_result"
    }
   ],
   "source": [
    "lista[:]"
   ]
  },
  {
   "cell_type": "markdown",
   "id": "16f3ec8b",
   "metadata": {},
   "source": [
    "```append()```\n",
    "\n",
    "añade un elemento al final de la lista"
   ]
  },
  {
   "cell_type": "code",
   "execution_count": 13,
   "id": "2482caf9",
   "metadata": {},
   "outputs": [],
   "source": [
    "lista.append(promedio)"
   ]
  },
  {
   "cell_type": "code",
   "execution_count": 14,
   "id": "fcd8246e",
   "metadata": {},
   "outputs": [
    {
     "data": {
      "text/plain": [
       "[1, 2, 3, 4, 5, 6, 7, 8, 6.5]"
      ]
     },
     "execution_count": 14,
     "metadata": {},
     "output_type": "execute_result"
    }
   ],
   "source": [
    "lista"
   ]
  },
  {
   "cell_type": "markdown",
   "id": "e9bc0ac5",
   "metadata": {},
   "source": [
    "```\n",
    "extend()\n",
    "```\n",
    "\n",
    "añade varios elementos al final de la lista\n",
    "\n",
    "Añadiremos las notas ```[9,8,7,6,5]``` en la lista"
   ]
  },
  {
   "cell_type": "code",
   "execution_count": 15,
   "id": "f5b6ce2c",
   "metadata": {},
   "outputs": [
    {
     "data": {
      "text/plain": [
       "[1, 2, 3, 4, 5, 6, 7, 8, 6.5, 9, 8, 7, 6, 5]"
      ]
     },
     "execution_count": 15,
     "metadata": {},
     "output_type": "execute_result"
    }
   ],
   "source": [
    "lista.extend([9, 8, 7, 6, 5])\n",
    "lista"
   ]
  },
  {
   "cell_type": "markdown",
   "id": "51640d9c",
   "metadata": {},
   "source": [
    "## Por que no se puede hacer con append\n",
    "\n",
    "Por que añadira como otra lista en la lista"
   ]
  },
  {
   "cell_type": "code",
   "execution_count": 16,
   "id": "acb660b3",
   "metadata": {},
   "outputs": [
    {
     "data": {
      "text/plain": [
       "[1, 2, 3, 4, 5, 6, 7, 8, 6.5, 9, 8, 7, 6, 5, [9, 8, 7, 6, 5]]"
      ]
     },
     "execution_count": 16,
     "metadata": {},
     "output_type": "execute_result"
    }
   ],
   "source": [
    "lista.append([9, 8, 7, 6, 5])\n",
    "lista"
   ]
  },
  {
   "cell_type": "markdown",
   "id": "f7dc33e3",
   "metadata": {},
   "source": [
    "```remove()```\n",
    "\n",
    "Remueve un elemento especifico de la lsita"
   ]
  },
  {
   "cell_type": "code",
   "execution_count": 17,
   "id": "85bafcf2",
   "metadata": {},
   "outputs": [
    {
     "data": {
      "text/plain": [
       "[1, 2, 3, 4, 5, 6, 7, 8, 6.5, 9, 8, 7, 6, 5]"
      ]
     },
     "execution_count": 17,
     "metadata": {},
     "output_type": "execute_result"
    }
   ],
   "source": [
    "lista.remove([9, 8, 7, 6, 5])\n",
    "lista"
   ]
  }
 ],
 "metadata": {
  "kernelspec": {
   "display_name": "Python 3",
   "language": "python",
   "name": "python3"
  },
  "language_info": {
   "codemirror_mode": {
    "name": "ipython",
    "version": 3
   },
   "file_extension": ".py",
   "mimetype": "text/x-python",
   "name": "python",
   "nbconvert_exporter": "python",
   "pygments_lexer": "ipython3",
   "version": "3.13.3"
  }
 },
 "nbformat": 4,
 "nbformat_minor": 5
}

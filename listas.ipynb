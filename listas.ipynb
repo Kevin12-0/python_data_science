{
 "cells": [
  {
   "cell_type": "markdown",
   "id": "7924885e",
   "metadata": {},
   "source": [
    "# Listas\n",
    "\n",
    "Pueden alamacenar diferentes valores de caracter diferente\n"
   ]
  },
  {
   "cell_type": "code",
   "execution_count": null,
   "id": "395af543",
   "metadata": {},
   "outputs": [
    {
     "data": {
      "text/plain": [
       "['penelope camacho', 9, 5, 0, 7, True]"
      ]
     },
     "execution_count": 2,
     "metadata": {},
     "output_type": "execute_result"
    }
   ],
   "source": [
    "lista = [\"penelope camacho\", 9, 5, 0, 7, 9.2, True]\n",
    "lista"
   ]
  },
  {
   "cell_type": "markdown",
   "id": "7c003b73",
   "metadata": {},
   "source": [
    "cada objeto tiene un indice en la lista, empezando desde el 0\n",
    "\n",
    "de igual hay indices negativos, que es de atras hacia adelante"
   ]
  },
  {
   "cell_type": "code",
   "execution_count": 3,
   "id": "670b82de",
   "metadata": {},
   "outputs": [
    {
     "data": {
      "text/plain": [
       "'penelope camacho'"
      ]
     },
     "execution_count": 3,
     "metadata": {},
     "output_type": "execute_result"
    }
   ],
   "source": [
    "lista[0]"
   ]
  },
  {
   "cell_type": "code",
   "execution_count": 5,
   "id": "aaa0ab69",
   "metadata": {},
   "outputs": [
    {
     "data": {
      "text/plain": [
       "str"
      ]
     },
     "execution_count": 5,
     "metadata": {},
     "output_type": "execute_result"
    }
   ],
   "source": [
    "type(lista[0])"
   ]
  },
  {
   "cell_type": "code",
   "execution_count": 8,
   "id": "42242858",
   "metadata": {},
   "outputs": [
    {
     "data": {
      "text/plain": [
       "int"
      ]
     },
     "execution_count": 8,
     "metadata": {},
     "output_type": "execute_result"
    }
   ],
   "source": [
    "type(lista[-2])"
   ]
  },
  {
   "cell_type": "markdown",
   "id": "a1388eec",
   "metadata": {},
   "source": [
    "una forma de tarbajar con una lista es utilizando un lazo for para leer un elemento"
   ]
  },
  {
   "cell_type": "code",
   "execution_count": 10,
   "id": "0a8b244c",
   "metadata": {},
   "outputs": [
    {
     "name": "stdout",
     "output_type": "stream",
     "text": [
      "penelope camacho\n",
      "9\n",
      "5\n",
      "0\n",
      "7\n",
      "True\n"
     ]
    }
   ],
   "source": [
    "for elento in lista:\n",
    "    print(elento)"
   ]
  },
  {
   "cell_type": "markdown",
   "id": "a9f49f9b",
   "metadata": {},
   "source": [
    "La nota de Penelope necesita ser ajustada pues gano 1 punto en su ultima nota, en clase, Entonces es necesario realiazr un cambio en el indice 2 de 9.0 a 10.0"
   ]
  },
  {
   "cell_type": "code",
   "execution_count": 12,
   "id": "3d1ca292",
   "metadata": {},
   "outputs": [
    {
     "data": {
      "text/plain": [
       "['penelope camacho', 9, 10.0, 0, 7, True]"
      ]
     },
     "execution_count": 12,
     "metadata": {},
     "output_type": "execute_result"
    }
   ],
   "source": [
    "lista[2] = 10.0\n",
    "lista"
   ]
  },
  {
   "cell_type": "code",
   "execution_count": 15,
   "id": "020d5010",
   "metadata": {},
   "outputs": [
    {
     "data": {
      "text/plain": [
       "6.5"
      ]
     },
     "execution_count": 15,
     "metadata": {},
     "output_type": "execute_result"
    }
   ],
   "source": [
    "promedio = (lista[1]+lista[2]+lista[3]+lista[4])/4\n",
    "promedio"
   ]
  },
  {
   "cell_type": "markdown",
   "id": "cfc7f029",
   "metadata": {},
   "source": [
    "# "
   ]
  },
  {
   "cell_type": "code",
   "execution_count": null,
   "id": "81b7cff8",
   "metadata": {},
   "outputs": [],
   "source": []
  }
 ],
 "metadata": {
  "kernelspec": {
   "display_name": "Python 3",
   "language": "python",
   "name": "python3"
  },
  "language_info": {
   "codemirror_mode": {
    "name": "ipython",
    "version": 3
   },
   "file_extension": ".py",
   "mimetype": "text/x-python",
   "name": "python",
   "nbconvert_exporter": "python",
   "pygments_lexer": "ipython3",
   "version": "3.13.3"
  }
 },
 "nbformat": 4,
 "nbformat_minor": 5
}

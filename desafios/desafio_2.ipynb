{
 "cells": [
  {
   "cell_type": "markdown",
   "id": "ee743b44",
   "metadata": {},
   "source": [
    "1 - Escribe un programa que pida a la persona usuaria que proporcione dos números y muestre el número más grande."
   ]
  },
  {
   "cell_type": "code",
   "execution_count": 1,
   "id": "48751687",
   "metadata": {},
   "outputs": [],
   "source": [
    "numero_1 = float(input('inserta un numero'))\n",
    "numero_2 = float(input('inserta otro un numero'))"
   ]
  },
  {
   "cell_type": "code",
   "execution_count": 2,
   "id": "43854768",
   "metadata": {},
   "outputs": [
    {
     "name": "stdout",
     "output_type": "stream",
     "text": [
      "el numero mayor es:  13.2\n"
     ]
    }
   ],
   "source": [
    "if numero_1 > numero_1:\n",
    "    print('El numero mayo es: ',numero_1)\n",
    "else:\n",
    "    print('el numero mayor es: ',numero_2)"
   ]
  },
  {
   "cell_type": "markdown",
   "id": "0cea8047",
   "metadata": {},
   "source": []
  }
 ],
 "metadata": {
  "kernelspec": {
   "display_name": "Python 3",
   "language": "python",
   "name": "python3"
  },
  "language_info": {
   "codemirror_mode": {
    "name": "ipython",
    "version": 3
   },
   "file_extension": ".py",
   "mimetype": "text/x-python",
   "name": "python",
   "nbconvert_exporter": "python",
   "pygments_lexer": "ipython3",
   "version": "3.13.3"
  }
 },
 "nbformat": 4,
 "nbformat_minor": 5
}
